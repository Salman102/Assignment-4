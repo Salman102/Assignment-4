{
 "cells": [
  {
   "cell_type": "markdown",
   "metadata": {},
   "source": [
    "# 1.Indexing"
   ]
  },
  {
   "cell_type": "code",
   "execution_count": null,
   "metadata": {},
   "outputs": [],
   "source": [
    "# Example 1"
   ]
  },
  {
   "cell_type": "code",
   "execution_count": 3,
   "metadata": {},
   "outputs": [],
   "source": [
    "employee_data = ['Ali', 125000, 'Google', 5]"
   ]
  },
  {
   "cell_type": "code",
   "execution_count": 4,
   "metadata": {},
   "outputs": [
    {
     "name": "stdout",
     "output_type": "stream",
     "text": [
      "Ali is working in Google for 5 years and his salary is 125000\n"
     ]
    }
   ],
   "source": [
    "print(employee_data[0], \"is working in\", employee_data[2], \"for\", employee_data[3], \n",
    "      \"years and his salary is\", employee_data[1])"
   ]
  },
  {
   "cell_type": "code",
   "execution_count": null,
   "metadata": {},
   "outputs": [],
   "source": [
    "# Example 2"
   ]
  },
  {
   "cell_type": "code",
   "execution_count": 3,
   "metadata": {},
   "outputs": [],
   "source": [
    "student_data = ['Ahmed', 'Bilal', 'Government College University', 'Computer Science', 'BS', 50000,\n",
    "               '28 Januray 2020', '05 February 2020']"
   ]
  },
  {
   "cell_type": "code",
   "execution_count": 29,
   "metadata": {},
   "outputs": [
    {
     "name": "stdout",
     "output_type": "stream",
     "text": [
      "hello Ahmed Bilal ,\n",
      "Your application is accepted for admission in BS Computer Science in Government College University .\n",
      "You have to submit fee 50000 befor 28 Januray 2020 .\n",
      "Your calss will start from 05 February 2020 .\n",
      "Thanks\n"
     ]
    }
   ],
   "source": [
    "print(\"hello\", student_data[0], student_data[1], \",\")\n",
    "print(\"Your application is accepted for admission in\", student_data[4], student_data[3], \"in\", \n",
    "      student_data[2],\".\")\n",
    "print(\"You have to submit fee\", student_data[5], \"befor\", student_data[6], \".\")\n",
    "print(\"Your calss will start from\", student_data[7], \".\")\n",
    "print(\"Thanks\")"
   ]
  },
  {
   "cell_type": "markdown",
   "metadata": {},
   "source": [
    "# 2.Slicing"
   ]
  },
  {
   "cell_type": "code",
   "execution_count": 30,
   "metadata": {},
   "outputs": [],
   "source": [
    "cities = [\"Faisalabad\", \"Lahore\", \"Islamabad\", \"Peshawar\", \"Quetta\", \"Sahiwal\", \"Rawalpindi\", \n",
    "          \"Sialkot\"]"
   ]
  },
  {
   "cell_type": "code",
   "execution_count": 42,
   "metadata": {},
   "outputs": [
    {
     "name": "stdout",
     "output_type": "stream",
     "text": [
      "(For positive slicing)\n",
      "1. ['Faisalabad', 'Lahore', 'Islamabad', 'Peshawar']\n",
      "2. ['Islamabad', 'Peshawar', 'Quetta', 'Sahiwal']\n",
      "2. ['Sahiwal', 'Rawalpindi', 'Sialkot']\n",
      "(For negative slicing)\n"
     ]
    }
   ],
   "source": [
    "print(\"(For positive slicing)\")\n",
    "print(\"1.\", cities[0:4])\n",
    "print(\"2.\", cities[2:6])\n",
    "print(\"2.\", cities[5:8])"
   ]
  },
  {
   "cell_type": "code",
   "execution_count": 48,
   "metadata": {},
   "outputs": [
    {
     "name": "stdout",
     "output_type": "stream",
     "text": [
      "(For negative slicing)\n",
      "1. ['Quetta', 'Sahiwal', 'Rawalpindi']\n",
      "2. ['Peshawar', 'Quetta', 'Sahiwal', 'Rawalpindi', 'Sialkot']\n"
     ]
    }
   ],
   "source": [
    "print(\"(For negative slicing)\")\n",
    "print(\"1.\", cities[-4:-1])\n",
    "print(\"2.\", cities[-5:])"
   ]
  },
  {
   "cell_type": "code",
   "execution_count": null,
   "metadata": {},
   "outputs": [],
   "source": []
  }
 ],
 "metadata": {
  "kernelspec": {
   "display_name": "Python 3",
   "language": "python",
   "name": "python3"
  },
  "language_info": {
   "codemirror_mode": {
    "name": "ipython",
    "version": 3
   },
   "file_extension": ".py",
   "mimetype": "text/x-python",
   "name": "python",
   "nbconvert_exporter": "python",
   "pygments_lexer": "ipython3",
   "version": "3.7.4"
  }
 },
 "nbformat": 4,
 "nbformat_minor": 2
}
